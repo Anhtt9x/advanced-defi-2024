{
 "cells": [
  {
   "cell_type": "code",
   "execution_count": 1,
   "id": "b22561e0",
   "metadata": {},
   "outputs": [
    {
     "name": "stdout",
     "output_type": "stream",
     "text": [
      "0 1.0\n",
      "1 1.5\n",
      "2 1.4166666666666667\n",
      "3 1.4142156862745099\n",
      "x =  1.4142135623746899\n",
      "f(x) =  4.510614104447086e-12\n"
     ]
    }
   ],
   "source": [
    "def f(x):\n",
    "    return x**2 - 2\n",
    "\n",
    "def df(x):\n",
    "    return 2*x\n",
    "\n",
    "def f_solve(f,df,x0,n,delta):\n",
    "    for i in range(n):\n",
    "        print(i,x0)\n",
    "        x1 = x0 - f(x0)/df(x0)\n",
    "        if abs(x1 - x0) < delta:\n",
    "            return x1\n",
    "\n",
    "        x0 = x1\n",
    "    assert False, \"Can not find solution\"\n",
    "\n",
    "x = f_solve(f, df, 1.0, 1000, 0.001)\n",
    "print(\"x = \", x)\n",
    "print(\"f(x) = \", f(x))"
   ]
  },
  {
   "cell_type": "code",
   "execution_count": 3,
   "id": "121fd67a",
   "metadata": {},
   "outputs": [
    {
     "name": "stdout",
     "output_type": "stream",
     "text": [
      "0 200\n",
      "1 209.45945945945945\n",
      "2 209.8951422053809\n",
      "3 209.89598435931032\n",
      "d =  209.8959843624435\n",
      "f(d) =  -1.1641532182693481e-10\n",
      "0 120\n",
      "1 98.28337071077964\n",
      "2 91.55478571373507\n",
      "3 90.22682927316701\n",
      "4 90.03093471803027\n",
      "5 90.00417417503758\n",
      "6 90.0005624153222\n",
      "7 90.0000757630414\n",
      "y =  90.00001020577612\n",
      "f(y) =  0.022254115261603147\n"
     ]
    }
   ],
   "source": [
    "def f(x,y,A,D):\n",
    "    k = A * x * y / (D/2)**2\n",
    "    return x*y + k*D * (x+y) - (D/2)**2 - k * D ** 2\n",
    "\n",
    "n = 100 \n",
    "delta = 0.0001\n",
    "\n",
    "x = 120\n",
    "y = 90\n",
    "A = 10\n",
    "D = 200\n",
    "\n",
    "def f_D(d):\n",
    "    return f(x, y, A, d)\n",
    "\n",
    "def df_D(d):\n",
    "    return -4*A * x * y * (x+y) / (d**2) - d / 2 \n",
    "\n",
    "d = f_solve(f_D, df_D, D, n, delta)\n",
    "print(\"d = \", d)\n",
    "print(\"f(d) = \", f_D(d))\n",
    "\n",
    "def f_y(y):\n",
    "    return f(x, y, A, d)\n",
    "\n",
    "def df_y(y):\n",
    "    return -4 * A * x + 4 * A * x * y / D  + 4 * A * x * (x + y) / D+x\n",
    "\n",
    "y = f_solve(f_y, df_y, x, n, delta)\n",
    "print(\"y = \", y)\n",
    "print(\"f(y) = \", f_y(y))\n"
   ]
  },
  {
   "cell_type": "code",
   "execution_count": null,
   "id": "71de0191",
   "metadata": {},
   "outputs": [],
   "source": []
  }
 ],
 "metadata": {
  "kernelspec": {
   "display_name": ".venv",
   "language": "python",
   "name": "python3"
  },
  "language_info": {
   "codemirror_mode": {
    "name": "ipython",
    "version": 3
   },
   "file_extension": ".py",
   "mimetype": "text/x-python",
   "name": "python",
   "nbconvert_exporter": "python",
   "pygments_lexer": "ipython3",
   "version": "3.12.3"
  }
 },
 "nbformat": 4,
 "nbformat_minor": 5
}
